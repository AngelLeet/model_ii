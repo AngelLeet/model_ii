{
 "cells": [
  {
   "cell_type": "code",
   "execution_count": 3,
   "metadata": {
    "collapsed": true
   },
   "outputs": [],
   "source": [
    "from tensorflow.keras.models import Sequential\n",
    "from tensorflow.keras.layers import Dense, Embedding, MaxPooling1D, Conv1D, GlobalMaxPooling1D, Dropout, LSTM, GRU, SpatialDropout1D\n",
    "from tensorflow.keras.preprocessing.sequence import pad_sequences\n",
    "from tensorflow.keras.preprocessing.text import Tokenizer\n",
    "from tensorflow.keras.callbacks import ModelCheckpoint\n",
    "\n",
    "\n",
    "model_lstm = Sequential()\n",
    "model_lstm.add(Embedding(10000, 128, input_length=29))\n",
    "model_lstm.add(SpatialDropout1D(0.5))\n",
    "model_lstm.add(LSTM(40, return_sequences=True))\n",
    "model_lstm.add(LSTM(40))\n",
    "model_lstm.add(Dense(91, activation='sigmoid'))\n",
    "\n",
    "model_lstm.compile(optimizer='adam',\n",
    "              loss='binary_crossentropy',\n",
    "              metrics=['accuracy', 'AUC'])\n",
    "\n",
    "model_lstm_save_path = './nlp/best_model_lstm.h5'\n",
    "checkpoint_callback_lstm = ModelCheckpoint(model_lstm_save_path,\n",
    "                                      monitor='val_accuracy',\n",
    "                                      save_best_only=True,\n",
    "                                      verbose=1)\n",
    "tokinezer_text = Tokenizer(num_words=10000)\n",
    "tokinezer_tags = Tokenizer()\n",
    "\n",
    "\n",
    "model_lstm.load_weights(model_lstm_save_path)\n"
   ]
  },
  {
   "cell_type": "code",
   "execution_count": 5,
   "outputs": [],
   "source": [
    "comment = \"The Earthscapes forever stamps\"\n",
    "\n",
    "sequence = tokinezer_text.texts_to_sequences([comment])\n",
    "data = pad_sequences(sequence, maxlen=29)\n"
   ],
   "metadata": {
    "collapsed": false
   }
  },
  {
   "cell_type": "code",
   "execution_count": 6,
   "outputs": [
    {
     "name": "stdout",
     "output_type": "stream",
     "text": [
      "1/1 [==============================] - 0s 33ms/step\n"
     ]
    },
    {
     "data": {
      "text/plain": "{}"
     },
     "execution_count": 6,
     "metadata": {},
     "output_type": "execute_result"
    }
   ],
   "source": [
    "result = model_lstm.predict(data)\n",
    "rez = tokinezer_tags.word_index\n",
    "rez"
   ],
   "metadata": {
    "collapsed": false
   }
  },
  {
   "cell_type": "code",
   "execution_count": null,
   "outputs": [],
   "source": [
    "\n",
    "n = 0\n",
    "for i in result[0]:\n",
    "\n",
    "    if i == result.max():\n",
    "        print(i)\n",
    "        print(list(rez.items())[n][0])\n",
    "    n += 1"
   ],
   "metadata": {
    "collapsed": false
   }
  }
 ],
 "metadata": {
  "kernelspec": {
   "display_name": "Python 3",
   "language": "python",
   "name": "python3"
  },
  "language_info": {
   "codemirror_mode": {
    "name": "ipython",
    "version": 2
   },
   "file_extension": ".py",
   "mimetype": "text/x-python",
   "name": "python",
   "nbconvert_exporter": "python",
   "pygments_lexer": "ipython2",
   "version": "2.7.6"
  }
 },
 "nbformat": 4,
 "nbformat_minor": 0
}
