{
 "cells": [
  {
   "cell_type": "code",
   "execution_count": 117,
   "metadata": {
    "collapsed": true
   },
   "outputs": [],
   "source": [
    "# импорт библиотеки\n",
    "import pandas as pd\n"
   ]
  },
  {
   "cell_type": "code",
   "execution_count": 118,
   "outputs": [],
   "source": [
    "# Загрузка данных\n",
    "df = pd.read_csv('./nlp/USA_Today.csv', index_col=0)"
   ],
   "metadata": {
    "collapsed": false
   }
  },
  {
   "cell_type": "code",
   "execution_count": 119,
   "outputs": [
    {
     "data": {
      "text/plain": "                timestamp                                              title  \\\ndate                                                                           \n2012/10/01  1349064000000  Catchings, January help Fever even series with...   \n2012/10/01  1349064000000  Kyle Busch rants on radio after his Toyota fal...   \n2012/10/01  1349064000000  Schwarzenegger says 'You can't run from your m...   \n2012/10/01  1349064000000                                    Ryder Cup Day 3   \n2012/10/01  1349064000000  Regular officials blow another big call agains...   \n2012/10/01  1349064000000                    Band members fly solo this fall   \n2012/10/01  1349064000000  Courtney Lee turned down more money to join Ce...   \n2012/10/01  1349064000000     Packers find their groove, edge winless Saints   \n2012/10/01  1349064000000   Picked for a reason, U.S. veterans don't deliver   \n2012/10/01  1349064000000     Cardinals edge Dolphins in OT to stay unbeaten   \n\n            level2  level3  \ndate                        \n2012/10/01  sports    wnba  \n2012/10/01  sports  nascar  \n2012/10/01    life   books  \n2012/10/01  sports    golf  \n2012/10/01  gameon     NaN  \n2012/10/01    life   music  \n2012/10/01  sports     nba  \n2012/10/01  sports     nfl  \n2012/10/01  sports    golf  \n2012/10/01  sports     nfl  ",
      "text/html": "<div>\n<style scoped>\n    .dataframe tbody tr th:only-of-type {\n        vertical-align: middle;\n    }\n\n    .dataframe tbody tr th {\n        vertical-align: top;\n    }\n\n    .dataframe thead th {\n        text-align: right;\n    }\n</style>\n<table border=\"1\" class=\"dataframe\">\n  <thead>\n    <tr style=\"text-align: right;\">\n      <th></th>\n      <th>timestamp</th>\n      <th>title</th>\n      <th>level2</th>\n      <th>level3</th>\n    </tr>\n    <tr>\n      <th>date</th>\n      <th></th>\n      <th></th>\n      <th></th>\n      <th></th>\n    </tr>\n  </thead>\n  <tbody>\n    <tr>\n      <th>2012/10/01</th>\n      <td>1349064000000</td>\n      <td>Catchings, January help Fever even series with...</td>\n      <td>sports</td>\n      <td>wnba</td>\n    </tr>\n    <tr>\n      <th>2012/10/01</th>\n      <td>1349064000000</td>\n      <td>Kyle Busch rants on radio after his Toyota fal...</td>\n      <td>sports</td>\n      <td>nascar</td>\n    </tr>\n    <tr>\n      <th>2012/10/01</th>\n      <td>1349064000000</td>\n      <td>Schwarzenegger says 'You can't run from your m...</td>\n      <td>life</td>\n      <td>books</td>\n    </tr>\n    <tr>\n      <th>2012/10/01</th>\n      <td>1349064000000</td>\n      <td>Ryder Cup Day 3</td>\n      <td>sports</td>\n      <td>golf</td>\n    </tr>\n    <tr>\n      <th>2012/10/01</th>\n      <td>1349064000000</td>\n      <td>Regular officials blow another big call agains...</td>\n      <td>gameon</td>\n      <td>NaN</td>\n    </tr>\n    <tr>\n      <th>2012/10/01</th>\n      <td>1349064000000</td>\n      <td>Band members fly solo this fall</td>\n      <td>life</td>\n      <td>music</td>\n    </tr>\n    <tr>\n      <th>2012/10/01</th>\n      <td>1349064000000</td>\n      <td>Courtney Lee turned down more money to join Ce...</td>\n      <td>sports</td>\n      <td>nba</td>\n    </tr>\n    <tr>\n      <th>2012/10/01</th>\n      <td>1349064000000</td>\n      <td>Packers find their groove, edge winless Saints</td>\n      <td>sports</td>\n      <td>nfl</td>\n    </tr>\n    <tr>\n      <th>2012/10/01</th>\n      <td>1349064000000</td>\n      <td>Picked for a reason, U.S. veterans don't deliver</td>\n      <td>sports</td>\n      <td>golf</td>\n    </tr>\n    <tr>\n      <th>2012/10/01</th>\n      <td>1349064000000</td>\n      <td>Cardinals edge Dolphins in OT to stay unbeaten</td>\n      <td>sports</td>\n      <td>nfl</td>\n    </tr>\n  </tbody>\n</table>\n</div>"
     },
     "execution_count": 119,
     "metadata": {},
     "output_type": "execute_result"
    }
   ],
   "source": [
    "df.head(10)"
   ],
   "metadata": {
    "collapsed": false
   }
  },
  {
   "cell_type": "code",
   "execution_count": 120,
   "outputs": [
    {
     "name": "stderr",
     "output_type": "stream",
     "text": [
      "\n",
      "KeyboardInterrupt\n",
      "\n"
     ]
    }
   ],
   "source": [
    "\n",
    "import pymorphy2\n",
    "raw_data = df.dropna(subset=['title'])\n",
    "morph = pymorphy2.MorphAnalyzer()\n",
    "lemm_texts_list = []\n",
    "for text in raw_data['title']:\n",
    "    text_lem = [morph.parse(word)[0].normal_form for word in text.split(' ')]\n",
    "    if len(text_lem) <= 2:\n",
    "        lemm_texts_list.append('')\n",
    "        continue\n",
    "    lemm_texts_list.append(' '.join(text_lem))\n",
    "raw_data['text_lemm'] = lemm_texts_list\n",
    "raw_data = raw_data[raw_data['text_lemm'] != '']\n",
    "raw_data.head()\n"
   ],
   "metadata": {
    "collapsed": false
   }
  },
  {
   "cell_type": "code",
   "execution_count": null,
   "outputs": [],
   "source": [
    "from sklearn.model_selection import train_test_split\n",
    "X = raw_data ['text_lemm']\n",
    "y = raw_data ['level2']\n",
    "X_train, X_test, y_train, y_test = train_test_split(X, y, random_state= 42, test_size=0.3)\n"
   ],
   "metadata": {
    "collapsed": false
   }
  },
  {
   "cell_type": "code",
   "execution_count": null,
   "outputs": [],
   "source": [
    "\n",
    "from sklearn.pipeline import Pipeline\n",
    "from sklearn.feature_extraction.text import TfidfTransformer\n",
    "from sklearn.feature_extraction.text import CountVectorizer\n",
    "from sklearn.feature_extraction.text import TfidfVectorizer\n",
    "from sklearn.linear_model import LogisticRegression\n",
    "\n",
    "logreg = Pipeline([\n",
    "                ('vect', CountVectorizer(analyzer='char', ngram_range =([2,10]))),\n",
    "                ('tfidf', TfidfTransformer()),\n",
    "                ('clf', LogisticRegression(n_jobs=3,C=15, solver='saga',\n",
    "                                           multi_class='multinomial',\n",
    "                                           max_iter=10000,\n",
    "                                           random_state=42)),\n",
    "])\n",
    "\n",
    "logreg.fit(X_train, y_train)\n",
    "y_pred = logreg.predict(X_test)\n"
   ],
   "metadata": {
    "collapsed": false
   }
  },
  {
   "cell_type": "code",
   "execution_count": null,
   "outputs": [],
   "source": [
    "from sklearn.metrics import classification_report\n",
    "from sklearn.metrics import f1_score\n",
    "print(classification_report(y_test, y_pred))\n",
    "print(f\"F1 Score: {f1_score(y_test, y_pred, average='weighted')}\")\n",
    "\n"
   ],
   "metadata": {
    "collapsed": false
   }
  },
  {
   "cell_type": "code",
   "execution_count": null,
   "outputs": [],
   "source": [
    "import pickle\n",
    "\n",
    "# Save to file in the current working directory\n",
    "pkl_filename = \"zz.pkl\"\n",
    "with open(pkl_filename, 'wb') as file:\n",
    "    pickle.dump(logreg, file)\n",
    "\n",
    "print(\"Test score: {0:.2f} %\".format(100 * score))"
   ],
   "metadata": {
    "collapsed": false
   }
  },
  {
   "cell_type": "code",
   "execution_count": null,
   "outputs": [],
   "source": [
    "# Load from file\n",
    "with open(pkl_filename, 'rb') as file:\n",
    "   pickle_model = pickle.load(file)\n",
    "\n",
    "# Calculate the accuracy score and predict target values\n",
    "score = pickle_model.score(y_test, y_pred)\n",
    "print(score)\n"
   ],
   "metadata": {
    "collapsed": false
   }
  }
 ],
 "metadata": {
  "kernelspec": {
   "display_name": "Python 3",
   "language": "python",
   "name": "python3"
  },
  "language_info": {
   "codemirror_mode": {
    "name": "ipython",
    "version": 2
   },
   "file_extension": ".py",
   "mimetype": "text/x-python",
   "name": "python",
   "nbconvert_exporter": "python",
   "pygments_lexer": "ipython2",
   "version": "2.7.6"
  }
 },
 "nbformat": 4,
 "nbformat_minor": 0
}
