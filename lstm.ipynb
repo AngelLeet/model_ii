{
 "cells": [
  {
   "cell_type": "code",
   "execution_count": 35,
   "metadata": {
    "collapsed": true
   },
   "outputs": [],
   "source": [
    "from tensorflow.keras.models import Sequential\n",
    "from tensorflow.keras.layers import Dense, Embedding, MaxPooling1D, Conv1D, SpatialDropout1D, Dropout, LSTM, GRU\n",
    "from tensorflow.keras import utils\n",
    "from tensorflow.keras.preprocessing.sequence import pad_sequences\n",
    "from tensorflow.keras.preprocessing.text import Tokenizer\n",
    "from tensorflow.keras.callbacks import ModelCheckpoint\n",
    "from tensorflow.keras import layers\n",
    "import pandas as pd\n",
    "import numpy as np\n",
    "import matplotlib.pyplot as plt\n",
    "%matplotlib inline"
   ]
  },
  {
   "cell_type": "code",
   "execution_count": 36,
   "outputs": [],
   "source": [
    "df = pd.read_csv('./nlp/USA_Today.csv')"
   ],
   "metadata": {
    "collapsed": false
   }
  },
  {
   "cell_type": "code",
   "execution_count": 37,
   "outputs": [
    {
     "data": {
      "text/plain": "         date      timestamp  \\\n0  2012/10/01  1349064000000   \n1  2012/10/01  1349064000000   \n2  2012/10/01  1349064000000   \n3  2012/10/01  1349064000000   \n4  2012/10/01  1349064000000   \n\n                                               title  level2  level3  \n0  Catchings, January help Fever even series with...  sports    wnba  \n1  Kyle Busch rants on radio after his Toyota fal...  sports  nascar  \n2  Schwarzenegger says 'You can't run from your m...    life   books  \n3                                    Ryder Cup Day 3  sports    golf  \n4  Regular officials blow another big call agains...  gameon     NaN  ",
      "text/html": "<div>\n<style scoped>\n    .dataframe tbody tr th:only-of-type {\n        vertical-align: middle;\n    }\n\n    .dataframe tbody tr th {\n        vertical-align: top;\n    }\n\n    .dataframe thead th {\n        text-align: right;\n    }\n</style>\n<table border=\"1\" class=\"dataframe\">\n  <thead>\n    <tr style=\"text-align: right;\">\n      <th></th>\n      <th>date</th>\n      <th>timestamp</th>\n      <th>title</th>\n      <th>level2</th>\n      <th>level3</th>\n    </tr>\n  </thead>\n  <tbody>\n    <tr>\n      <th>0</th>\n      <td>2012/10/01</td>\n      <td>1349064000000</td>\n      <td>Catchings, January help Fever even series with...</td>\n      <td>sports</td>\n      <td>wnba</td>\n    </tr>\n    <tr>\n      <th>1</th>\n      <td>2012/10/01</td>\n      <td>1349064000000</td>\n      <td>Kyle Busch rants on radio after his Toyota fal...</td>\n      <td>sports</td>\n      <td>nascar</td>\n    </tr>\n    <tr>\n      <th>2</th>\n      <td>2012/10/01</td>\n      <td>1349064000000</td>\n      <td>Schwarzenegger says 'You can't run from your m...</td>\n      <td>life</td>\n      <td>books</td>\n    </tr>\n    <tr>\n      <th>3</th>\n      <td>2012/10/01</td>\n      <td>1349064000000</td>\n      <td>Ryder Cup Day 3</td>\n      <td>sports</td>\n      <td>golf</td>\n    </tr>\n    <tr>\n      <th>4</th>\n      <td>2012/10/01</td>\n      <td>1349064000000</td>\n      <td>Regular officials blow another big call agains...</td>\n      <td>gameon</td>\n      <td>NaN</td>\n    </tr>\n  </tbody>\n</table>\n</div>"
     },
     "execution_count": 37,
     "metadata": {},
     "output_type": "execute_result"
    }
   ],
   "source": [
    "df.head()"
   ],
   "metadata": {
    "collapsed": false
   }
  },
  {
   "cell_type": "code",
   "execution_count": 38,
   "outputs": [],
   "source": [
    "text = df['title']\n",
    "tags = df['level2']"
   ],
   "metadata": {
    "collapsed": false
   }
  },
  {
   "cell_type": "code",
   "execution_count": 39,
   "outputs": [],
   "source": [
    "tokinezer_text = Tokenizer(num_words=10000)\n",
    "tokinezer_tags = Tokenizer()\n",
    "tokinezer_tags.fit_on_texts(tags)"
   ],
   "metadata": {
    "collapsed": false
   }
  },
  {
   "cell_type": "code",
   "execution_count": 40,
   "outputs": [],
   "source": [
    "\n",
    "tokinezer_text.fit_on_texts(text)"
   ],
   "metadata": {
    "collapsed": false
   }
  },
  {
   "cell_type": "code",
   "execution_count": 41,
   "outputs": [
    {
     "data": {
      "text/plain": "{'to': 1,\n 'in': 2,\n 'for': 3,\n 'the': 4,\n 'of': 5,\n 'on': 6,\n 'a': 7,\n 'with': 8,\n 'at': 9,\n 'and': 10,\n 'new': 11,\n 'is': 12,\n 'after': 13,\n 'from': 14,\n 'no': 15,\n 'over': 16,\n 'as': 17,\n 'win': 18,\n '2': 19,\n 'state': 20,\n 'trump': 21,\n '3': 22,\n '1': 23,\n 'by': 24,\n '5': 25,\n 'game': 26,\n 'out': 27,\n 'top': 28,\n 'up': 29,\n '4': 30,\n 'beat': 31,\n 'be': 32,\n 'past': 33,\n 'will': 34,\n 'off': 35,\n 'best': 36,\n 'says': 37,\n 'year': 38,\n 'you': 39,\n 'first': 40,\n 'has': 41,\n 'nfl': 42,\n 'more': 43,\n 'are': 44,\n 'beats': 45,\n 'day': 46,\n 'not': 47,\n 'this': 48,\n 's': 49,\n 'back': 50,\n 'lead': 51,\n 'how': 52,\n 'season': 53,\n 'about': 54,\n 'u': 55,\n 'your': 56,\n 'big': 57,\n 'world': 58,\n '10': 59,\n 'coach': 60,\n 'leads': 61,\n 'his': 62,\n '6': 63,\n 'wins': 64,\n 'scores': 65,\n 'week': 66,\n 'get': 67,\n 'what': 68,\n 'cup': 69,\n 'open': 70,\n 'vs': 71,\n 'man': 72,\n '7': 73,\n 'it': 74,\n 'gets': 75,\n 'all': 76,\n '0': 77,\n 'us': 78,\n 'time': 79,\n 'home': 80,\n 'can': 81,\n 'against': 82,\n 'into': 83,\n 'have': 84,\n 'could': 85,\n 'football': 86,\n 'texas': 87,\n 'obama': 88,\n 'college': 89,\n 'police': 90,\n 'st': 91,\n 'deal': 92,\n 'team': 93,\n 'nba': 94,\n 'watch': 95,\n 'star': 96,\n \"'\": 97,\n 'loss': 98,\n 'florida': 99,\n 'but': 100,\n 'who': 101,\n 'down': 102,\n 'ap': 103,\n 'that': 104,\n 'why': 105,\n 'south': 106,\n 'bowl': 107,\n 'video': 108,\n 'white': 109,\n 'may': 110,\n 'help': 111,\n 'start': 112,\n 'tech': 113,\n 'make': 114,\n 'title': 115,\n '8': 116,\n 'report': 117,\n 'now': 118,\n 'red': 119,\n 'play': 120,\n 'raw': 121,\n 'years': 122,\n 'league': 123,\n 'take': 124,\n 'final': 125,\n 'still': 126,\n 'one': 127,\n 'women': 128,\n 'was': 129,\n 'tv': 130,\n 'players': 131,\n 'know': 132,\n '12': 133,\n 'shooting': 134,\n 'house': 135,\n 'return': 136,\n 'again': 137,\n 'an': 138,\n 'he': 139,\n 'picks': 140,\n 'former': 141,\n 'record': 142,\n 'her': 143,\n 'things': 144,\n 'most': 145,\n 'president': 146,\n 'takes': 147,\n 'dies': 148,\n 'run': 149,\n 'sign': 150,\n 'show': 151,\n 'michigan': 152,\n 'qb': 153,\n 'look': 154,\n 'games': 155,\n 'injury': 156,\n '9': 157,\n 'draft': 158,\n 'north': 159,\n 'court': 160,\n 'hit': 161,\n 'donald': 162,\n 'high': 163,\n 'say': 164,\n '1st': 165,\n 'super': 166,\n 'series': 167,\n 'usa': 168,\n 'hits': 169,\n 'death': 170,\n 'sox': 171,\n 'ex': 172,\n \"'the\": 173,\n 'old': 174,\n 'late': 175,\n '20': 176,\n 'makes': 177,\n 'car': 178,\n 'end': 179,\n 'fans': 180,\n 'playoff': 181,\n 'free': 182,\n 'coronavirus': 183,\n 'ncaa': 184,\n 'set': 185,\n 'next': 186,\n 'today': 187,\n 'case': 188,\n 'than': 189,\n 'need': 190,\n 'school': 191,\n 'fire': 192,\n 'james': 193,\n 'history': 194,\n 'race': 195,\n '25': 196,\n 'stars': 197,\n 'shows': 198,\n 'should': 199,\n 'city': 200,\n 'straight': 201,\n '11': 202,\n 'player': 203,\n 'million': 204,\n 'carolina': 205,\n 'go': 206,\n 'bill': 207,\n 'giants': 208,\n 'john': 209,\n 'their': 210,\n 'miss': 211,\n 'its': 212,\n 'during': 213,\n 'stories': 214,\n 'west': 215,\n 'helps': 216,\n 'ohio': 217,\n 'tour': 218,\n 'dead': 219,\n 'national': 220,\n 'rally': 221,\n 'family': 222,\n 'two': 223,\n 'american': 224,\n 'washington': 225,\n 'like': 226,\n '000': 227,\n 'before': 228,\n 'round': 229,\n 'life': 230,\n 'do': 231,\n 'another': 232,\n 'trade': 233,\n 'see': 234,\n '2018': 235,\n 'mlb': 236,\n 'column': 237,\n 'we': 238,\n 'n': 239,\n 'returns': 240,\n 'these': 241,\n 'york': 242,\n 'last': 243,\n \"won't\": 244,\n 'woman': 245,\n \"trump's\": 246,\n '19': 247,\n 'iowa': 248,\n 'face': 249,\n 'crash': 250,\n 'j': 251,\n '2020': 252,\n 'shot': 253,\n 'goes': 254,\n 'odds': 255,\n 'or': 256,\n 'list': 257,\n 'nhl': 258,\n 'fall': 259,\n 'arizona': 260,\n 'gives': 261,\n 'clinton': 262,\n 'basketball': 263,\n '2016': 264,\n 'fight': 265,\n 'lifts': 266,\n '16': 267,\n '13': 268,\n 'second': 269,\n 'alabama': 270,\n 'capsules': 271,\n 'tops': 272,\n 'ready': 273,\n 'killed': 274,\n '17': 275,\n 'right': 276,\n 'blue': 277,\n 'defense': 278,\n 'found': 279,\n 'kentucky': 280,\n 'power': 281,\n 'ot': 282,\n 'williams': 283,\n 'teams': 284,\n '2019': 285,\n '14': 286,\n 'points': 287,\n 'talks': 288,\n '15': 289,\n 'black': 290,\n 'latest': 291,\n 'cubs': 292,\n 'news': 293,\n 'our': 294,\n 'bets': 295,\n 'five': 296,\n 'wants': 297,\n 'just': 298,\n 'california': 299,\n 'georgia': 300,\n 'cardinals': 301,\n 'early': 302,\n 'calls': 303,\n 'i': 304,\n 'baseball': 305,\n 'lose': 306,\n 'some': 307,\n 'michael': 308,\n '2nd': 309,\n 'rangers': 310,\n \"women's\": 311,\n '24': 312,\n 'olympic': 313,\n 'long': 314,\n 'through': 315,\n 'baby': 316,\n 'd': 317,\n 'health': 318,\n 'attack': 319,\n 'san': 320,\n 'preview': 321,\n 'oklahoma': 322,\n 'holds': 323,\n 'when': 324,\n 'johnson': 325,\n 'keep': 326,\n 'kids': 327,\n 'behind': 328,\n 'good': 329,\n \"it's\": 330,\n 'virginia': 331,\n 'if': 332,\n 'debut': 333,\n 'looks': 334,\n 'arrested': 335,\n 'away': 336,\n 'way': 337,\n '21': 338,\n 'contract': 339,\n 'dodgers': 340,\n 'signs': 341,\n 'nascar': 342,\n 'jets': 343,\n 'air': 344,\n 'love': 345,\n 'head': 346,\n 'four': 347,\n 'c': 348,\n \"don't\": 349,\n 'mike': 350,\n 'olympics': 351,\n 'night': 352,\n 'hall': 353,\n 'career': 354,\n 'apple': 355,\n 'under': 356,\n 'weekend': 357,\n 'tennessee': 358,\n 'amazon': 359,\n 'victory': 360,\n 'chicago': 361,\n 'pick': 362,\n 'playoffs': 363,\n 'twitter': 364,\n 'amid': 365,\n 'sports': 366,\n 'miami': 367,\n 'china': 368,\n 'ryan': 369,\n 'leaves': 370,\n 'plan': 371,\n 'work': 372,\n 'so': 373,\n 'injured': 374,\n 'gop': 375,\n 'lebron': 376,\n 'smith': 377,\n '2017': 378,\n 'surgery': 379,\n 'change': 380,\n 'chris': 381,\n 'deals': 382,\n 'jones': 383,\n 'opener': 384,\n 'people': 385,\n 'photos': 386,\n 'jr': 387,\n 'hot': 388,\n 'yankees': 389,\n 'wild': 390,\n 'hold': 391,\n 'meet': 392,\n 'mets': 393,\n '50': 394,\n 'patriots': 395,\n 'election': 396,\n 'double': 397,\n 'capsule': 398,\n 'pay': 399,\n 'mexico': 400,\n 'money': 401,\n 'east': 402,\n 'move': 403,\n 'russia': 404,\n 'astros': 405,\n 'faces': 406,\n 'mom': 407,\n 'davis': 408,\n 'call': 409,\n 'goal': 410,\n 'streak': 411,\n 'great': 412,\n 'championship': 413,\n 'fantasy': 414,\n 'travel': 415,\n 'awards': 416,\n 'america': 417,\n 'book': 418,\n 'oregon': 419,\n 'young': 420,\n 'debate': 421,\n 'facebook': 422,\n 'road': 423,\n 'minute': 424,\n 'sex': 425,\n '30': 426,\n 'job': 427,\n 'houston': 428,\n 'him': 429,\n 'boston': 430,\n 'warriors': 431,\n 'security': 432,\n 'trailer': 433,\n 'line': 434,\n 'george': 435,\n 'kansas': 436,\n 'paul': 437,\n 'without': 438,\n 'test': 439,\n 'ahead': 440,\n 'united': 441,\n 'three': 442,\n 'place': 443,\n 'tom': 444,\n 'charged': 445,\n 'mark': 446,\n 'tax': 447,\n 'ban': 448,\n 'judge': 449,\n 'brown': 450,\n 'heat': 451,\n 'live': 452,\n 'gun': 453,\n 'storm': 454,\n 'ends': 455,\n 'rout': 456,\n 'save': 457,\n 'hopes': 458,\n 'want': 459,\n 'future': 460,\n 'teen': 461,\n 'must': 462,\n 'real': 463,\n 'march': 464,\n 'forecast': 465,\n 'sales': 466,\n 'cowboys': 467,\n 'plans': 468,\n 'senate': 469,\n 'key': 470,\n '18': 471,\n 'would': 472,\n 'p': 473,\n 'stop': 474,\n 'indians': 475,\n 'southern': 476,\n 'tournament': 477,\n 'panthers': 478,\n 'being': 479,\n 'missing': 480,\n 'kevin': 481,\n '70': 482,\n 'view': 483,\n '23': 484,\n 'stay': 485,\n 'hurricane': 486,\n 'other': 487,\n 'twins': 488,\n 'dog': 489,\n 'media': 490,\n 'around': 491,\n 'david': 492,\n 'royals': 493,\n '100': 494,\n 'jackson': 495,\n 'matt': 496,\n 'son': 497,\n 'despite': 498,\n 'tigers': 499,\n 'students': 500,\n 'review': 501,\n 'colorado': 502,\n 'korea': 503,\n 'ceo': 504,\n 'illinois': 505,\n 'bills': 506,\n 'field': 507,\n 'braves': 508,\n 'use': 509,\n 'stocks': 510,\n '2015': 511,\n 'green': 512,\n 'soccer': 513,\n 'gm': 514,\n 'joe': 515,\n 'browns': 516,\n 'better': 517,\n 'airport': 518,\n 'questions': 519,\n 'fan': 520,\n 'left': 521,\n 'poll': 522,\n 'cruise': 523,\n 'ad': 524,\n 'too': 525,\n 'vote': 526,\n 'since': 527,\n 'detroit': 528,\n 'tips': 529,\n 'eagles': 530,\n 'rallies': 531,\n 'loses': 532,\n 'going': 533,\n 'give': 534,\n 'they': 535,\n 'utah': 536,\n 'suspended': 537,\n 'winter': 538,\n 'arkansas': 539,\n 'shares': 540,\n 'trial': 541,\n 'la': 542,\n '75': 543,\n 'study': 544,\n 'winning': 545,\n '66': 546,\n 'among': 547,\n 'm': 548,\n 'practice': 549,\n 'vegas': 550,\n 'put': 551,\n '69': 552,\n 'social': 553,\n 'point': 554,\n 'my': 555,\n '22': 556,\n 'nationals': 557,\n 'broncos': 558,\n '65': 559,\n 'student': 560,\n 'had': 561,\n 'looking': 562,\n '72': 563,\n 'short': 564,\n 'reach': 565,\n 'rookie': 566,\n 'music': 567,\n '2014': 568,\n 'suspect': 569,\n 'where': 570,\n 'brewers': 571,\n 'close': 572,\n 'rays': 573,\n 'french': 574,\n \"can't\": 575,\n 'charges': 576,\n 'cancer': 577,\n 'talk': 578,\n 'cut': 579,\n '71': 580,\n 'food': 581,\n 'jays': 582,\n 'steelers': 583,\n '73': 584,\n 'reds': 585,\n 'friday': 586,\n \"here's\": 587,\n 'holiday': 588,\n '67': 589,\n 'half': 590,\n 'states': 591,\n 'packers': 592,\n 'agree': 593,\n 'spring': 594,\n 'indiana': 595,\n '68': 596,\n 'made': 597,\n 'google': 598,\n 'does': 599,\n 'flight': 600,\n 'bid': 601,\n 'name': 602,\n 'camp': 603,\n 'campaign': 604,\n 'de': 605,\n 'plane': 606,\n 'war': 607,\n 'guard': 608,\n 'cars': 609,\n 'angels': 610,\n 'find': 611,\n 'golf': 612,\n 'airlines': 613,\n 'pirates': 614,\n 'sale': 615,\n 'park': 616,\n 'opens': 617,\n '60': 618,\n 'business': 619,\n 'homers': 620,\n 'summer': 621,\n 'making': 622,\n 'pro': 623,\n '500': 624,\n 'ever': 625,\n 'photo': 626,\n 'christmas': 627,\n '74': 628,\n '63': 629,\n '3rd': 630,\n '80': 631,\n 'mississippi': 632,\n 'care': 633,\n 'k': 634,\n 'orioles': 635,\n 'days': 636,\n 'raiders': 637,\n 'force': 638,\n 'knee': 639,\n 'chiefs': 640,\n 'release': 641,\n 'rules': 642,\n '77': 643,\n 'major': 644,\n 'visit': 645,\n 'finds': 646,\n 'ask': 647,\n 'service': 648,\n '64': 649,\n 'vikings': 650,\n 'much': 651,\n 'taylor': 652,\n 'group': 653,\n 'strong': 654,\n 'girl': 655,\n 'host': 656,\n 'ball': 657,\n 'dallas': 658,\n 'rockies': 659,\n 'marlins': 660,\n '49ers': 661,\n 'near': 662,\n \"'i\": 663,\n 'bears': 664,\n '76': 665,\n 'got': 666,\n 'americans': 667,\n '27': 668,\n 'buy': 669,\n 'exclusive': 670,\n 'notre': 671,\n 'getting': 672,\n 'kings': 673,\n 'covid': 674,\n 'missouri': 675,\n 'coming': 676,\n 'wr': 677,\n 'clemson': 678,\n 'lakers': 679,\n 'winner': 680,\n 'match': 681,\n 'chief': 682,\n 'check': 683,\n 'leading': 684,\n 'russian': 685,\n 'claims': 686,\n 'wall': 687,\n 'boy': 688,\n 'fame': 689,\n 'accused': 690,\n 'tiger': 691,\n 'needs': 692,\n 'lift': 693,\n 'drug': 694,\n 'battle': 695,\n 'bad': 696,\n 'story': 697,\n 'rams': 698,\n '62': 699,\n 'retirement': 700,\n 'moves': 701,\n 'martin': 702,\n 'duke': 703,\n 'rio': 704,\n 'sets': 705,\n 'center': 706,\n 'prince': 707,\n 'louisville': 708,\n 'own': 709,\n 'brings': 710,\n 'minnesota': 711,\n 'wisconsin': 712,\n 'titans': 713,\n 'sec': 714,\n 'seahawks': 715,\n 'iran': 716,\n 'safety': 717,\n 'reports': 718,\n 'leave': 719,\n 'gay': 720,\n \"he's\": 721,\n 'ways': 722,\n 'while': 723,\n 'seattle': 724,\n 'nyc': 725,\n 'supreme': 726,\n 'padres': 727,\n 'forward': 728,\n 'biggest': 729,\n 'jobs': 730,\n 'party': 731,\n 'lions': 732,\n 'third': 733,\n 'did': 734,\n 'offense': 735,\n 'biden': 736,\n \"what's\": 737,\n '78': 738,\n 'law': 739,\n 'showbiz': 740,\n 'announces': 741,\n 'victims': 742,\n 'champions': 743,\n 'changes': 744,\n 'support': 745,\n 'break': 746,\n 'phillies': 747,\n 'training': 748,\n 'los': 749,\n 'post': 750,\n 'thomas': 751,\n 'monday': 752,\n 'central': 753,\n '79': 754,\n 'market': 755,\n 'finals': 756,\n 'trip': 757,\n 'little': 758,\n 'even': 759,\n 'stock': 760,\n 'running': 761,\n 'ford': 762,\n 'turns': 763,\n 'coaches': 764,\n 'spurs': 765,\n 'dame': 766,\n 'justin': 767,\n \"doesn't\": 768,\n 'water': 769,\n 't': 770,\n 'only': 771,\n 'guilty': 772,\n 'assault': 773,\n 'owner': 774,\n '31': 775,\n 'price': 776,\n 'congress': 777,\n 'colts': 778,\n 'kim': 779,\n 'punchlines': 780,\n 'woods': 781,\n 'fifa': 782,\n 'redskins': 783,\n 'steve': 784,\n 'child': 785,\n 'france': 786,\n 'rankings': 787,\n 'probe': 788,\n '61': 789,\n 'falls': 790,\n 'breaks': 791,\n 'kelly': 792,\n 'wife': 793,\n 'officer': 794,\n 'comes': 795,\n 'brady': 796,\n 'ice': 797,\n 'protest': 798,\n 'gold': 799,\n 'movie': 800,\n 'role': 801,\n 'adds': 802,\n 'hospital': 803,\n 'hope': 804,\n 'seeks': 805,\n 'saints': 806,\n 'lsu': 807,\n '28': 808,\n 'al': 809,\n \"a's\": 810,\n 'dad': 811,\n 'classic': 812,\n 'military': 813,\n 'draw': 814,\n 'ravens': 815,\n 'rise': 816,\n '4th': 817,\n 'inside': 818,\n 'stadium': 819,\n 'bryant': 820,\n 'worst': 821,\n 'small': 822,\n 'golden': 823,\n 'offers': 824,\n 'country': 825,\n 'sanders': 826,\n 'robert': 827,\n 'spot': 828,\n 'dl': 829,\n 'anti': 830,\n 'avoid': 831,\n 'named': 832,\n 'conference': 833,\n 'mariners': 834,\n '59': 835,\n 'angeles': 836,\n 'border': 837,\n 'grand': 838,\n 'reveals': 839,\n 'sexual': 840,\n 'bell': 841,\n 'baylor': 842,\n 'times': 843,\n '81': 844,\n 're': 845,\n 'falcons': 846,\n 'e': 847,\n 'office': 848,\n 'paris': 849,\n 'share': 850,\n 'rb': 851,\n 'officials': 852,\n 'bulls': 853,\n 'schedule': 854,\n 'ship': 855,\n 'stephen': 856,\n 'syria': 857,\n 'class': 858,\n 'finally': 859,\n 'card': 860,\n 'rolls': 861,\n 'likely': 862,\n 'abuse': 863,\n '82': 864,\n 'scott': 865,\n 'penn': 866,\n 'try': 867,\n 'murder': 868,\n 'runs': 869,\n 'joins': 870,\n 'plays': 871,\n 'she': 872,\n 'kills': 873,\n 'parents': 874,\n 'maryland': 875,\n 'club': 876,\n 'interview': 877,\n 'challenge': 878,\n 'dolphins': 879,\n 'british': 880,\n '2013': 881,\n 'snow': 882,\n 'lawsuit': 883,\n 'pga': 884,\n 'perfect': 885,\n 'tony': 886,\n 'murray': 887,\n 'upset': 888,\n 'coast': 889,\n 'favorite': 890,\n 'starting': 891,\n 'many': 892,\n 'might': 893,\n 'chance': 894,\n 'weeks': 895,\n 'atlanta': 896,\n 'stage': 897,\n 'jaguars': 898,\n 'extension': 899,\n 'sunday': 900,\n 'dakota': 901,\n 'opening': 902,\n 'starts': 903,\n 'special': 904,\n 'jordan': 905,\n 'pope': 906,\n 'turn': 907,\n 'josh': 908,\n 'twice': 909,\n 'weather': 910,\n 'add': 911,\n 'king': 912,\n 'manager': 913,\n 'decision': 914,\n 'here': 915,\n 'union': 916,\n 'homer': 917,\n 'losing': 918,\n 'award': 919,\n 'leader': 920,\n 'track': 921,\n 'online': 922,\n 'louisiana': 923,\n 'official': 924,\n 'fires': 925,\n 'protests': 926,\n 'jimmy': 927,\n 'anthony': 928,\n 'rock': 929,\n 'driver': 930,\n 'workers': 931,\n 'hurt': 932,\n 'body': 933,\n 'least': 934,\n 'prison': 935,\n 'jim': 936,\n 'never': 937,\n 'bring': 938,\n 'july': 939,\n 'hotel': 940,\n 'source': 941,\n 'names': 942,\n 'app': 943,\n 'immigration': 944,\n 'rights': 945,\n 'event': 946,\n 'defensive': 947,\n 'offensive': 948,\n 'scandal': 949,\n 'score': 950,\n 'sweep': 951,\n 'violence': 952,\n 'democrats': 953,\n 'continues': 954,\n 'honor': 955,\n 'rockets': 956,\n '83': 957,\n 'arrest': 958,\n 'las': 959,\n 'full': 960,\n 'bay': 961,\n 'been': 962,\n 'skid': 963,\n 'expected': 964,\n 'edge': 965,\n 'search': 966,\n 'jersey': 967,\n '56': 968,\n '26': 969,\n 'wedding': 970,\n 'pulls': 971,\n 'heart': 972,\n '58': 973,\n 'speech': 974,\n 'hand': 975,\n 'lost': 976,\n 'film': 977,\n 'beach': 978,\n 'chase': 979,\n 'come': 980,\n 'fox': 981,\n 'throws': 982,\n 'space': 983,\n 'part': 984,\n 'government': 985,\n 'action': 986,\n 'jeff': 987,\n 'presidential': 988,\n '40': 989,\n 'drive': 990,\n 'climate': 991,\n 'agent': 992,\n 'nick': 993,\n 'clippers': 994,\n 'issues': 995,\n 'penguins': 996,\n 'cruises': 997,\n 'chargers': 998,\n 'injuries': 999,\n 'comeback': 1000,\n ...}"
     },
     "execution_count": 41,
     "metadata": {},
     "output_type": "execute_result"
    }
   ],
   "source": [
    "tokinezer_text.word_index"
   ],
   "metadata": {
    "collapsed": false
   }
  },
  {
   "cell_type": "code",
   "execution_count": 42,
   "outputs": [],
   "source": [
    "sequences_text = tokinezer_text.texts_to_sequences(text)\n",
    "sequences_tags_1 = tokinezer_tags.texts_to_sequences(tags)"
   ],
   "metadata": {
    "collapsed": false
   }
  },
  {
   "cell_type": "code",
   "execution_count": 43,
   "outputs": [
    {
     "name": "stdout",
     "output_type": "stream",
     "text": [
      "[[1], [1], [3], [1], [11], [3], [1], [1], [1], [1], [2], [3], [1], [5], [4], [1], [2], [5], [3], [1], [11], [1], [11], [1], [1], [1], [1], [11], [1], [1], [1], [6], [3], [1], [1], [1], [1], [1], [1], [1], [1], [12], [1], [1], [1], [2], [1], [3], [1], [14], [2], [19], [2], [2], [2], [2], [3], [2], [2], [11], [2], [11], [3], [13], [2], [2], [8], [1], [1], [8], [13], [11], [18], [17], [3], [2], [21], [27], [8], [18], [2], [4], [11], [4], [2], [8], [5], [29], [8], [16], [4], [5], [11], [18], [19], [1], [3], [13], [8], [14]]\n"
     ]
    }
   ],
   "source": [
    "print(sequences_tags_1[:100])"
   ],
   "metadata": {
    "collapsed": false
   }
  },
  {
   "cell_type": "code",
   "execution_count": 44,
   "outputs": [
    {
     "data": {
      "text/plain": "         date      timestamp  \\\n0  2012/10/01  1349064000000   \n1  2012/10/01  1349064000000   \n2  2012/10/01  1349064000000   \n3  2012/10/01  1349064000000   \n4  2012/10/01  1349064000000   \n\n                                               title  level2  level3  \\\n0  Catchings, January help Fever even series with...  sports    wnba   \n1  Kyle Busch rants on radio after his Toyota fal...  sports  nascar   \n2  Schwarzenegger says 'You can't run from your m...    life   books   \n3                                    Ryder Cup Day 3  sports    golf   \n4  Regular officials blow another big call agains...  gameon     NaN   \n\n  clean_tags  \n0        [1]  \n1        [1]  \n2        [3]  \n3        [1]  \n4       [11]  ",
      "text/html": "<div>\n<style scoped>\n    .dataframe tbody tr th:only-of-type {\n        vertical-align: middle;\n    }\n\n    .dataframe tbody tr th {\n        vertical-align: top;\n    }\n\n    .dataframe thead th {\n        text-align: right;\n    }\n</style>\n<table border=\"1\" class=\"dataframe\">\n  <thead>\n    <tr style=\"text-align: right;\">\n      <th></th>\n      <th>date</th>\n      <th>timestamp</th>\n      <th>title</th>\n      <th>level2</th>\n      <th>level3</th>\n      <th>clean_tags</th>\n    </tr>\n  </thead>\n  <tbody>\n    <tr>\n      <th>0</th>\n      <td>2012/10/01</td>\n      <td>1349064000000</td>\n      <td>Catchings, January help Fever even series with...</td>\n      <td>sports</td>\n      <td>wnba</td>\n      <td>[1]</td>\n    </tr>\n    <tr>\n      <th>1</th>\n      <td>2012/10/01</td>\n      <td>1349064000000</td>\n      <td>Kyle Busch rants on radio after his Toyota fal...</td>\n      <td>sports</td>\n      <td>nascar</td>\n      <td>[1]</td>\n    </tr>\n    <tr>\n      <th>2</th>\n      <td>2012/10/01</td>\n      <td>1349064000000</td>\n      <td>Schwarzenegger says 'You can't run from your m...</td>\n      <td>life</td>\n      <td>books</td>\n      <td>[3]</td>\n    </tr>\n    <tr>\n      <th>3</th>\n      <td>2012/10/01</td>\n      <td>1349064000000</td>\n      <td>Ryder Cup Day 3</td>\n      <td>sports</td>\n      <td>golf</td>\n      <td>[1]</td>\n    </tr>\n    <tr>\n      <th>4</th>\n      <td>2012/10/01</td>\n      <td>1349064000000</td>\n      <td>Regular officials blow another big call agains...</td>\n      <td>gameon</td>\n      <td>NaN</td>\n      <td>[11]</td>\n    </tr>\n  </tbody>\n</table>\n</div>"
     },
     "execution_count": 44,
     "metadata": {},
     "output_type": "execute_result"
    }
   ],
   "source": [
    "\n",
    "df['clean_tags'] = sequences_tags_1\n",
    "df.head()"
   ],
   "metadata": {
    "collapsed": false
   }
  },
  {
   "cell_type": "code",
   "execution_count": 45,
   "outputs": [
    {
     "data": {
      "text/plain": "array([[   0,    0,    0,    0,    0,    0,    0,    0,    0,    0,    0,\n           0,    0,    0,    0,    0,    0,    0,    0,    0,    0,    0,\n        1627,  111, 3140,  759,  167,    8, 1398],\n       [   0,    0,    0,    0,    0,    0,    0,    0,    0,    0,    0,\n           0,    0,    0,    0,    0,    0,    0,    0,    0, 1109, 1677,\n           6, 2495,   13,   62, 2343,  790,  564],\n       [   0,    0,    0,    0,    0,    0,    0,    0,    0,    0,    0,\n           0,    0,    0,    0,    0,    0,    0,    0,    0,    0,    0,\n        6330,   37, 5013,  575,  149,   14,   56],\n       [   0,    0,    0,    0,    0,    0,    0,    0,    0,    0,    0,\n           0,    0,    0,    0,    0,    0,    0,    0,    0,    0,    0,\n           0,    0,    0, 2466,   69,   46,   22],\n       [   0,    0,    0,    0,    0,    0,    0,    0,    0,    0,    0,\n           0,    0,    0,    0,    0,    0,    0, 2551,  852, 2208,  232,\n          57,  409,   82,    4,  512,  961,  592],\n       [   0,    0,    0,    0,    0,    0,    0,    0,    0,    0,    0,\n           0,    0,    0,    0,    0,    0,    0,    0,    0,    0,    0,\n           0, 2755, 1874, 1757, 3033,   48,  259],\n       [   0,    0,    0,    0,    0,    0,    0,    0,    0,    0,    0,\n           0,    0,    0,    0,    0,    0,    0,    0,    0, 7115, 1265,\n        2764,  102,   43,  401,    1, 1019, 1011],\n       [   0,    0,    0,    0,    0,    0,    0,    0,    0,    0,    0,\n           0,    0,    0,    0,    0,    0,    0,    0,    0,    0,    0,\n           0,  592,  611,  210,  965, 2120,  806],\n       [   0,    0,    0,    0,    0,    0,    0,    0,    0,    0,    0,\n           0,    0,    0,    0,    0,    0,    0,    0,    0, 3700,    3,\n           7, 2809,   55,   49, 1860,  349, 3333],\n       [   0,    0,    0,    0,    0,    0,    0,    0,    0,    0,    0,\n           0,    0,    0,    0,    0,    0,    0,    0,    0,    0,  301,\n         965,  879,    2,  282,    1,  485, 1468],\n       [   0,    0,    0,    0,    0,    0,    0,    0,    0,    0,    0,\n           0,    0,    0,    0,    0,    0,    0,    0,  720, 1127, 5294,\n           2, 5759,    1,  333,  223,  130, 1830],\n       [   0,    0,    0,    0,    0,    0,    0,    0,    0,    0,    0,\n           0,    0,    0,    0,    0,    0,    0,    0,    0,    0,    0,\n           0,    0,    0,    0, 4650,  729,  169],\n       [   0,    0,    0,    0,    0,    0,    0,    0,    0,    0,    0,\n           0,    0,    0,    0,    0,    0,    0,    0,    0, 8585, 2466,\n          69, 1966,    7,   57,   18,    3, 2123],\n       [   0,    0,    0,    0,    0,    0,    0,    0,    0,    0,    0,\n           0,    0,    0,    0,    0,    0,    0,    0,    0,    0,    0,\n           0,    0,    0,  501,  370,    7, 5619],\n       [   0,    0,    0,    0,    0,    0,    0,    0,    0,    0,    0,\n           0,    0,    0,    0,    0,    0,    0,    0,  647,  138, 2513,\n        3672,   32,  226, 8612,  100,  349,   74]], dtype=int32)"
     },
     "execution_count": 45,
     "metadata": {},
     "output_type": "execute_result"
    }
   ],
   "source": [
    "x_train = pad_sequences(sequences_text)\n",
    "x_train[:15]"
   ],
   "metadata": {
    "collapsed": false
   }
  },
  {
   "cell_type": "code",
   "execution_count": 46,
   "outputs": [
    {
     "data": {
      "text/plain": "array([[ 0,  0,  0,  0,  1],\n       [ 0,  0,  0,  0,  1],\n       [ 0,  0,  0,  0,  3],\n       [ 0,  0,  0,  0,  1],\n       [ 0,  0,  0,  0, 11],\n       [ 0,  0,  0,  0,  3],\n       [ 0,  0,  0,  0,  1],\n       [ 0,  0,  0,  0,  1],\n       [ 0,  0,  0,  0,  1],\n       [ 0,  0,  0,  0,  1],\n       [ 0,  0,  0,  0,  2],\n       [ 0,  0,  0,  0,  3],\n       [ 0,  0,  0,  0,  1],\n       [ 0,  0,  0,  0,  5],\n       [ 0,  0,  0,  0,  4]], dtype=int32)"
     },
     "execution_count": 46,
     "metadata": {},
     "output_type": "execute_result"
    }
   ],
   "source": [
    "tags = pad_sequences(sequences_tags_1)\n",
    "tags[:15]"
   ],
   "metadata": {
    "collapsed": false
   }
  },
  {
   "cell_type": "code",
   "execution_count": 47,
   "outputs": [],
   "source": [
    "df = df.fillna(0)"
   ],
   "metadata": {
    "collapsed": false
   }
  },
  {
   "cell_type": "code",
   "execution_count": 67,
   "outputs": [],
   "source": [
    "row = []\n",
    "for i in df['clean_tags']:\n",
    "    if i != []:\n",
    "        row.append(i[0])\n",
    "    else:\n",
    "        row.append(0)"
   ],
   "metadata": {
    "collapsed": false
   }
  },
  {
   "cell_type": "code",
   "execution_count": 68,
   "outputs": [],
   "source": [
    "y_train = utils.to_categorical(row, 91)"
   ],
   "metadata": {
    "collapsed": false
   }
  },
  {
   "cell_type": "code",
   "execution_count": 69,
   "outputs": [
    {
     "data": {
      "text/plain": "array([[0., 1., 0., ..., 0., 0., 0.],\n       [0., 1., 0., ..., 0., 0., 0.],\n       [0., 0., 0., ..., 0., 0., 0.],\n       ...,\n       [0., 1., 0., ..., 0., 0., 0.],\n       [0., 1., 0., ..., 0., 0., 0.],\n       [0., 1., 0., ..., 0., 0., 0.]], dtype=float32)"
     },
     "execution_count": 69,
     "metadata": {},
     "output_type": "execute_result"
    }
   ],
   "source": [
    "y_train"
   ],
   "metadata": {
    "collapsed": false
   }
  },
  {
   "cell_type": "code",
   "execution_count": 74,
   "outputs": [],
   "source": [
    "model_lstm = Sequential()\n",
    "model_lstm.add(Embedding(10000, 128, input_length=29))\n",
    "model_lstm.add(SpatialDropout1D(0.5))\n",
    "model_lstm.add(LSTM(40, return_sequences=True))\n",
    "model_lstm.add(LSTM(40))\n",
    "model_lstm.add(Dense(91, activation='sigmoid'))"
   ],
   "metadata": {
    "collapsed": false
   }
  },
  {
   "cell_type": "code",
   "execution_count": 75,
   "outputs": [],
   "source": [
    "model_lstm.compile(optimizer='adam',\n",
    "              loss='binary_crossentropy',\n",
    "              metrics=['accuracy', 'AUC'])"
   ],
   "metadata": {
    "collapsed": false
   }
  },
  {
   "cell_type": "code",
   "execution_count": 76,
   "outputs": [],
   "source": [
    "model_lstm_save_path = 'best_model_lstm.h5'\n",
    "checkpoint_callback_lstm = ModelCheckpoint(model_lstm_save_path,\n",
    "                                      monitor='val_accuracy',\n",
    "                                      save_best_only=True,\n",
    "                                      verbose=1)"
   ],
   "metadata": {
    "collapsed": false
   }
  },
  {
   "cell_type": "code",
   "execution_count": 78,
   "outputs": [
    {
     "name": "stdout",
     "output_type": "stream",
     "text": [
      "Epoch 1/2\n",
      "3254/3254 [==============================] - ETA: 0s - loss: 0.0292 - accuracy: 0.4594 - auc: 0.9692\n",
      "Epoch 1: val_accuracy improved from -inf to 0.50879, saving model to best_model_lstm.h5\n",
      "3254/3254 [==============================] - 1198s 368ms/step - loss: 0.0292 - accuracy: 0.4594 - auc: 0.9692 - val_loss: 0.0259 - val_accuracy: 0.5088 - val_auc: 0.9840\n",
      "Epoch 2/2\n",
      "3254/3254 [==============================] - ETA: 0s - loss: 0.0275 - accuracy: 0.4594 - auc: 0.9706\n",
      "Epoch 2: val_accuracy did not improve from 0.50879\n",
      "3254/3254 [==============================] - 1121s 345ms/step - loss: 0.0275 - accuracy: 0.4594 - auc: 0.9706 - val_loss: 0.0257 - val_accuracy: 0.5088 - val_auc: 0.9840\n"
     ]
    }
   ],
   "source": [
    "history_lstm = model_lstm.fit(x_train,\n",
    "                              y_train,\n",
    "                              epochs=2,\n",
    "                              batch_size=512,\n",
    "                              validation_split=0.2,\n",
    "                              callbacks=[checkpoint_callback_lstm])"
   ],
   "metadata": {
    "collapsed": false
   }
  },
  {
   "cell_type": "code",
   "execution_count": 79,
   "outputs": [
    {
     "data": {
      "text/plain": "<Figure size 640x480 with 1 Axes>",
      "image/png": "[encoded data removed]"
     },
     "metadata": {},
     "output_type": "display_data"
    }
   ],
   "source": [
    "plt.plot(history_lstm.history['accuracy'],\n",
    "         label='Доля верных ответов на обучающем наборе')\n",
    "plt.plot(history_lstm.history['val_accuracy'],\n",
    "         label='Доля верных ответов на проверочном наборе')\n",
    "plt.xlabel('Эпоха обучения')\n",
    "plt.ylabel('Доля верных ответов')\n",
    "plt.legend()\n",
    "plt.show()"
   ],
   "metadata": {
    "collapsed": false
   }
  },
  {
   "cell_type": "code",
   "execution_count": 103,
   "outputs": [],
   "source": [
    "model_lstm.load_weights(model_lstm_save_path)\n"
   ],
   "metadata": {
    "collapsed": false
   }
  },
  {
   "cell_type": "code",
   "execution_count": 139,
   "outputs": [],
   "source": [
    "comment = \"U.S. kids exposed to 4 hours of background TV daily\"\n"
   ],
   "metadata": {
    "collapsed": false
   }
  },
  {
   "cell_type": "code",
   "execution_count": 140,
   "outputs": [],
   "source": [
    "sequence = tokinezer_text.texts_to_sequences([comment])"
   ],
   "metadata": {
    "collapsed": false
   }
  },
  {
   "cell_type": "code",
   "execution_count": 141,
   "outputs": [
    {
     "data": {
      "text/plain": "[[55, 49, 327, 6232, 1, 30, 1888, 5, 6573, 130, 1527]]"
     },
     "execution_count": 141,
     "metadata": {},
     "output_type": "execute_result"
    }
   ],
   "source": [
    "sequence"
   ],
   "metadata": {
    "collapsed": false
   }
  },
  {
   "cell_type": "code",
   "execution_count": 142,
   "outputs": [],
   "source": [
    "data = pad_sequences(sequence)"
   ],
   "metadata": {
    "collapsed": false
   }
  },
  {
   "cell_type": "code",
   "execution_count": 143,
   "outputs": [
    {
     "data": {
      "text/plain": "array([[  55,   49,  327, 6232,    1,   30, 1888,    5, 6573,  130, 1527]],\n      dtype=int32)"
     },
     "execution_count": 143,
     "metadata": {},
     "output_type": "execute_result"
    }
   ],
   "source": [
    "data"
   ],
   "metadata": {
    "collapsed": false
   }
  },
  {
   "cell_type": "code",
   "execution_count": 144,
   "outputs": [
    {
     "name": "stdout",
     "output_type": "stream",
     "text": [
      "1/1 [==============================] - 0s 33ms/step\n"
     ]
    }
   ],
   "source": [
    "result = model_lstm.predict(data)"
   ],
   "metadata": {
    "collapsed": false
   }
  },
  {
   "cell_type": "code",
   "execution_count": 146,
   "outputs": [
    {
     "data": {
      "text/plain": "array([[1.39398471e-04, 4.22062218e-01, 2.66292959e-01, 1.01218686e-01,\n        6.20175339e-02, 3.99065726e-02, 2.67518274e-02, 2.05156561e-02,\n        8.29931535e-03, 5.15373517e-03, 5.86227793e-03, 4.97451052e-03,\n        5.34680579e-03, 4.38904297e-03, 3.58278677e-03, 2.00849562e-03,\n        2.72457185e-03, 1.83502911e-03, 1.43558951e-03, 8.23840848e-04,\n        6.11675496e-04, 5.82327542e-04, 4.26029583e-04, 8.93700417e-05,\n        3.60657054e-04, 3.72919545e-04, 3.22991255e-04, 2.37881919e-04,\n        2.12933213e-04, 1.71276683e-04, 1.22421014e-04, 1.23200341e-04,\n        1.35554394e-04, 1.20965393e-04, 1.03259750e-04, 2.10061291e-04,\n        8.46074836e-05, 8.98125945e-05, 9.93064095e-05, 1.20724209e-04,\n        8.03516959e-05, 1.85675774e-04, 1.60054857e-04, 8.66351111e-05,\n        8.20628848e-05, 6.19426573e-05, 1.03061320e-04, 1.93138418e-04,\n        1.10532841e-04, 1.05707411e-04, 9.11737516e-05, 4.88020487e-05,\n        2.15003951e-04, 1.88806109e-04, 1.62475626e-04, 1.34628848e-04,\n        1.67286737e-04, 3.28816423e-05, 7.99492045e-05, 1.46099497e-04,\n        1.77028996e-04, 1.25251026e-04, 1.68126440e-04, 1.80316099e-04,\n        9.13827389e-05, 1.10508183e-04, 1.22024168e-04, 2.62629153e-04,\n        1.26649684e-04, 9.75905277e-05, 2.38313689e-04, 1.00740421e-04,\n        1.02352933e-04, 2.39624933e-04, 1.16624164e-04, 6.48386267e-05,\n        1.72915155e-04, 9.12049727e-05, 1.43043115e-04, 6.02410510e-05,\n        5.60672233e-05, 1.12107242e-04, 7.43809724e-05, 1.06820320e-04,\n        1.97745176e-04, 1.66878264e-04, 1.12950111e-04, 8.85863119e-05,\n        1.70293235e-04, 6.22144435e-05, 7.28832456e-05]], dtype=float32)"
     },
     "execution_count": 146,
     "metadata": {},
     "output_type": "execute_result"
    }
   ],
   "source": [
    "result"
   ],
   "metadata": {
    "collapsed": false
   }
  },
  {
   "cell_type": "code",
   "execution_count": 158,
   "outputs": [
    {
     "data": {
      "text/plain": "'[1.39398471e-04 4.22062218e-01 2.66292959e-01 1.01218686e-01\\n 6.20175339e-02 3.99065726e-02 2.67518274e-02 2.05156561e-02\\n 8.29931535e-03 5.15373517e-03 5.86227793e-03 4.97451052e-03\\n 5.34680579e-03 4.38904297e-03 3.58278677e-03 2.00849562e-03\\n 2.72457185e-03 1.83502911e-03 1.43558951e-03 8.23840848e-04\\n 6.11675496e-04 5.82327542e-04 4.26029583e-04 8.93700417e-05\\n 3.60657054e-04 3.72919545e-04 3.22991255e-04 2.37881919e-04\\n 2.12933213e-04 1.71276683e-04 1.22421014e-04 1.23200341e-04\\n 1.35554394e-04 1.20965393e-04 1.03259750e-04 2.10061291e-04\\n 8.46074836e-05 8.98125945e-05 9.93064095e-05 1.20724209e-04\\n 8.03516959e-05 1.85675774e-04 1.60054857e-04 8.66351111e-05\\n 8.20628848e-05 6.19426573e-05 1.03061320e-04 1.93138418e-04\\n 1.10532841e-04 1.05707411e-04 9.11737516e-05 4.88020487e-05\\n 2.15003951e-04 1.88806109e-04 1.62475626e-04 1.34628848e-04\\n 1.67286737e-04 3.28816423e-05 7.99492045e-05 1.46099497e-04\\n 1.77028996e-04 1.25251026e-04 1.68126440e-04 1.80316099e-04\\n 9.13827389e-05 1.10508183e-04 1.22024168e-04 2.62629153e-04\\n 1.26649684e-04 9.75905277e-05 2.38313689e-04 1.00740421e-04\\n 1.02352933e-04 2.39624933e-04 1.16624164e-04 6.48386267e-05\\n 1.72915155e-04 9.12049727e-05 1.43043115e-04 6.02410510e-05\\n 5.60672233e-05 1.12107242e-04 7.43809724e-05 1.06820320e-04\\n 1.97745176e-04 1.66878264e-04 1.12950111e-04 8.85863119e-05\\n 1.70293235e-04 6.22144435e-05 7.28832456e-05]'"
     },
     "execution_count": 158,
     "metadata": {},
     "output_type": "execute_result"
    }
   ],
   "source": [
    "#str(result[0].index(result[0].max()))\n",
    "a = str(result[0])\n",
    "a.index(a.max())"
   ],
   "metadata": {
    "collapsed": false
   }
  },
  {
   "cell_type": "code",
   "execution_count": null,
   "outputs": [],
   "source": [],
   "metadata": {
    "collapsed": false,
    "pycharm": {
     "is_executing": true
    }
   }
  },
  {
   "cell_type": "code",
   "execution_count": 155,
   "outputs": [],
   "source": [],
   "metadata": {
    "collapsed": false
   }
  }
 ],
 "metadata": {
  "kernelspec": {
   "display_name": "Python 3",
   "language": "python",
   "name": "python3"
  },
  "language_info": {
   "codemirror_mode": {
    "name": "ipython",
    "version": 2
   },
   "file_extension": ".py",
   "mimetype": "text/x-python",
   "name": "python",
   "nbconvert_exporter": "python",
   "pygments_lexer": "ipython2",
   "version": "2.7.6"
  }
 },
 "nbformat": 4,
 "nbformat_minor": 0
}
